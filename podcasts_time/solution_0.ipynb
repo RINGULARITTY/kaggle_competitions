{
 "cells": [
  {
   "cell_type": "code",
   "execution_count": 1,
   "metadata": {},
   "outputs": [
    {
     "data": {
      "text/plain": [
       "750000"
      ]
     },
     "metadata": {},
     "output_type": "display_data"
    },
    {
     "data": {
      "text/html": [
       "<div>\n",
       "<style scoped>\n",
       "    .dataframe tbody tr th:only-of-type {\n",
       "        vertical-align: middle;\n",
       "    }\n",
       "\n",
       "    .dataframe tbody tr th {\n",
       "        vertical-align: top;\n",
       "    }\n",
       "\n",
       "    .dataframe thead th {\n",
       "        text-align: right;\n",
       "    }\n",
       "</style>\n",
       "<table border=\"1\" class=\"dataframe\">\n",
       "  <thead>\n",
       "    <tr style=\"text-align: right;\">\n",
       "      <th></th>\n",
       "      <th>id</th>\n",
       "      <th>Podcast_Name</th>\n",
       "      <th>Episode_Title</th>\n",
       "      <th>Episode_Length_minutes</th>\n",
       "      <th>Genre</th>\n",
       "      <th>Host_Popularity_percentage</th>\n",
       "      <th>Publication_Day</th>\n",
       "      <th>Publication_Time</th>\n",
       "      <th>Guest_Popularity_percentage</th>\n",
       "      <th>Number_of_Ads</th>\n",
       "      <th>Episode_Sentiment</th>\n",
       "      <th>Listening_Time_minutes</th>\n",
       "    </tr>\n",
       "  </thead>\n",
       "  <tbody>\n",
       "    <tr>\n",
       "      <th>0</th>\n",
       "      <td>0</td>\n",
       "      <td>Mystery Matters</td>\n",
       "      <td>Episode 98</td>\n",
       "      <td>NaN</td>\n",
       "      <td>True Crime</td>\n",
       "      <td>74.81</td>\n",
       "      <td>Thursday</td>\n",
       "      <td>Night</td>\n",
       "      <td>NaN</td>\n",
       "      <td>0.0</td>\n",
       "      <td>Positive</td>\n",
       "      <td>31.41998</td>\n",
       "    </tr>\n",
       "    <tr>\n",
       "      <th>1</th>\n",
       "      <td>1</td>\n",
       "      <td>Joke Junction</td>\n",
       "      <td>Episode 26</td>\n",
       "      <td>119.80</td>\n",
       "      <td>Comedy</td>\n",
       "      <td>66.95</td>\n",
       "      <td>Saturday</td>\n",
       "      <td>Afternoon</td>\n",
       "      <td>75.95</td>\n",
       "      <td>2.0</td>\n",
       "      <td>Negative</td>\n",
       "      <td>88.01241</td>\n",
       "    </tr>\n",
       "    <tr>\n",
       "      <th>2</th>\n",
       "      <td>2</td>\n",
       "      <td>Study Sessions</td>\n",
       "      <td>Episode 16</td>\n",
       "      <td>73.90</td>\n",
       "      <td>Education</td>\n",
       "      <td>69.97</td>\n",
       "      <td>Tuesday</td>\n",
       "      <td>Evening</td>\n",
       "      <td>8.97</td>\n",
       "      <td>0.0</td>\n",
       "      <td>Negative</td>\n",
       "      <td>44.92531</td>\n",
       "    </tr>\n",
       "    <tr>\n",
       "      <th>3</th>\n",
       "      <td>3</td>\n",
       "      <td>Digital Digest</td>\n",
       "      <td>Episode 45</td>\n",
       "      <td>67.17</td>\n",
       "      <td>Technology</td>\n",
       "      <td>57.22</td>\n",
       "      <td>Monday</td>\n",
       "      <td>Morning</td>\n",
       "      <td>78.70</td>\n",
       "      <td>2.0</td>\n",
       "      <td>Positive</td>\n",
       "      <td>46.27824</td>\n",
       "    </tr>\n",
       "    <tr>\n",
       "      <th>4</th>\n",
       "      <td>4</td>\n",
       "      <td>Mind &amp; Body</td>\n",
       "      <td>Episode 86</td>\n",
       "      <td>110.51</td>\n",
       "      <td>Health</td>\n",
       "      <td>80.07</td>\n",
       "      <td>Monday</td>\n",
       "      <td>Afternoon</td>\n",
       "      <td>58.68</td>\n",
       "      <td>3.0</td>\n",
       "      <td>Neutral</td>\n",
       "      <td>75.61031</td>\n",
       "    </tr>\n",
       "  </tbody>\n",
       "</table>\n",
       "</div>"
      ],
      "text/plain": [
       "   id     Podcast_Name Episode_Title  Episode_Length_minutes       Genre  \\\n",
       "0   0  Mystery Matters    Episode 98                     NaN  True Crime   \n",
       "1   1    Joke Junction    Episode 26                  119.80      Comedy   \n",
       "2   2   Study Sessions    Episode 16                   73.90   Education   \n",
       "3   3   Digital Digest    Episode 45                   67.17  Technology   \n",
       "4   4      Mind & Body    Episode 86                  110.51      Health   \n",
       "\n",
       "   Host_Popularity_percentage Publication_Day Publication_Time  \\\n",
       "0                       74.81        Thursday            Night   \n",
       "1                       66.95        Saturday        Afternoon   \n",
       "2                       69.97         Tuesday          Evening   \n",
       "3                       57.22          Monday          Morning   \n",
       "4                       80.07          Monday        Afternoon   \n",
       "\n",
       "   Guest_Popularity_percentage  Number_of_Ads Episode_Sentiment  \\\n",
       "0                          NaN            0.0          Positive   \n",
       "1                        75.95            2.0          Negative   \n",
       "2                         8.97            0.0          Negative   \n",
       "3                        78.70            2.0          Positive   \n",
       "4                        58.68            3.0           Neutral   \n",
       "\n",
       "   Listening_Time_minutes  \n",
       "0                31.41998  \n",
       "1                88.01241  \n",
       "2                44.92531  \n",
       "3                46.27824  \n",
       "4                75.61031  "
      ]
     },
     "execution_count": 1,
     "metadata": {},
     "output_type": "execute_result"
    }
   ],
   "source": [
    "import pandas as pd\n",
    "\n",
    "raw_train = pd.read_csv(\"./data/train.csv\")\n",
    "display(len(raw_train))\n",
    "raw_train.head()"
   ]
  },
  {
   "cell_type": "code",
   "execution_count": 2,
   "metadata": {},
   "outputs": [
    {
     "data": {
      "text/plain": [
       "id                              0.000000\n",
       "Podcast_Name                    0.000000\n",
       "Episode_Title                   0.000000\n",
       "Episode_Length_minutes         11.612400\n",
       "Genre                           0.000000\n",
       "Host_Popularity_percentage      0.000000\n",
       "Publication_Day                 0.000000\n",
       "Publication_Time                0.000000\n",
       "Guest_Popularity_percentage    19.470667\n",
       "Number_of_Ads                   0.000133\n",
       "Episode_Sentiment               0.000000\n",
       "Listening_Time_minutes          0.000000\n",
       "dtype: float64"
      ]
     },
     "execution_count": 2,
     "metadata": {},
     "output_type": "execute_result"
    }
   ],
   "source": [
    "100 * raw_train.isnull().sum() / len(raw_train)"
   ]
  },
  {
   "cell_type": "code",
   "execution_count": 3,
   "metadata": {},
   "outputs": [
    {
     "data": {
      "text/plain": [
       "id                              0.0000\n",
       "Podcast_Name                    0.0000\n",
       "Episode_Title                   0.0000\n",
       "Episode_Length_minutes         11.4944\n",
       "Genre                           0.0000\n",
       "Host_Popularity_percentage      0.0000\n",
       "Publication_Day                 0.0000\n",
       "Publication_Time                0.0000\n",
       "Guest_Popularity_percentage    19.5328\n",
       "Number_of_Ads                   0.0000\n",
       "Episode_Sentiment               0.0000\n",
       "dtype: float64"
      ]
     },
     "execution_count": 3,
     "metadata": {},
     "output_type": "execute_result"
    }
   ],
   "source": [
    "raw_test = pd.read_csv(\"./data/test.csv\")\n",
    "100 * raw_test.isnull().sum() / len(raw_test)"
   ]
  },
  {
   "cell_type": "markdown",
   "metadata": {},
   "source": [
    "Non negligeable amount of Nan + feature importance of last traning session shows there are important -> so must be filled"
   ]
  },
  {
   "cell_type": "markdown",
   "metadata": {},
   "source": [
    "### Quick Treatment"
   ]
  },
  {
   "cell_type": "code",
   "execution_count": 4,
   "metadata": {},
   "outputs": [
    {
     "data": {
      "text/plain": [
       "750000"
      ]
     },
     "execution_count": 4,
     "metadata": {},
     "output_type": "execute_result"
    }
   ],
   "source": [
    "raw_train.drop_duplicates(inplace=True)\n",
    "\n",
    "len(raw_train)"
   ]
  },
  {
   "cell_type": "code",
   "execution_count": 5,
   "metadata": {},
   "outputs": [
    {
     "data": {
      "text/plain": [
       "749999"
      ]
     },
     "execution_count": 5,
     "metadata": {},
     "output_type": "execute_result"
    }
   ],
   "source": [
    "raw_train = raw_train[~raw_train[\"Number_of_Ads\"].isna()]\n",
    "\n",
    "len(raw_train)"
   ]
  },
  {
   "cell_type": "markdown",
   "metadata": {},
   "source": [
    "### Analyze"
   ]
  },
  {
   "cell_type": "code",
   "execution_count": 7,
   "metadata": {},
   "outputs": [
    {
     "data": {
      "text/plain": [
       "array(['Mystery Matters', 'Melody Mix', 'Fashion Forward', 'Funny Folks',\n",
       "       'Digital Digest', 'Innovators', 'Laugh Line',\n",
       "       'Educational Nuggets', 'Daily Digest', 'Detective Diaries',\n",
       "       'Tune Time', 'Learning Lab', 'Life Lessons', 'Style Guide',\n",
       "       'Sports Central', 'Tech Talks', 'Lifestyle Lounge',\n",
       "       'Fitness First', 'Crime Chronicles', 'Study Sessions',\n",
       "       'Health Hour', 'Gadget Geek', 'Home & Living', 'Criminal Minds',\n",
       "       'Current Affairs', 'Joke Junction', 'Comedy Corner', 'Humor Hub'],\n",
       "      dtype=object)"
      ]
     },
     "execution_count": 7,
     "metadata": {},
     "output_type": "execute_result"
    }
   ],
   "source": [
    "raw_train.sort_values(\"Listening_Time_minutes\", ascending=False).head(50)[\"Podcast_Name\"].unique()"
   ]
  },
  {
   "cell_type": "code",
   "execution_count": 8,
   "metadata": {},
   "outputs": [],
   "source": [
    "catchy_words = ['Mystery', 'Joke', 'Fitness', 'Funny', 'Secret', 'Reveal', 'Hype', 'Catchy', 'Learn']"
   ]
  },
  {
   "cell_type": "code",
   "execution_count": null,
   "metadata": {},
   "outputs": [],
   "source": [
    "import plotly.express as px\n",
    "\n",
    "selected_columns = [\"Genre\", \"Publication_Day\", \"Publication_Time\", \"Episode_Sentiment\"]\n",
    "\n",
    "for c in raw_train.columns:\n",
    "    if not c in selected_columns:\n",
    "        continue\n",
    "    \n",
    "    value_counts = raw_train[c].value_counts()\n",
    "\n",
    "    total = len(raw_train)\n",
    "    unique_values = len(value_counts)\n",
    "    equirépartition_percentage = 100 / unique_values\n",
    "\n",
    "    value_counts_percentage = (value_counts / total) * 100\n",
    "\n",
    "    difference_from_equirépartition = value_counts_percentage - equirépartition_percentage\n",
    "\n",
    "    results_df = value_counts_percentage.reset_index()\n",
    "    results_df.columns = [c, 'Observed_Percentage']\n",
    "    results_df['Difference_from_Equidistribution'] = difference_from_equirépartition.values\n",
    "    results_df['Count'] = value_counts.values\n",
    "\n",
    "    fig = px.bar(\n",
    "        results_df,\n",
    "        x=c,\n",
    "        y='Difference_from_Equidistribution',\n",
    "        text='Difference_from_Equidistribution',\n",
    "        title=\" \".join(c.split(\"_\")) + \" unique classes\",\n",
    "        labels={'Difference_from_Equidistribution': \"Equi-repartition difference\", c: \"Classes\"},\n",
    "        hover_data={\n",
    "            'Observed_Percentage': ':.2f',\n",
    "            'Count': True,\n",
    "            'Difference_from_Equidistribution': False\n",
    "        }\n",
    "    )\n",
    "\n",
    "    fig.update_traces(texttemplate='%{text:.2f}', textposition='outside')\n",
    "    fig.show()"
   ]
  },
  {
   "cell_type": "code",
   "execution_count": null,
   "metadata": {},
   "outputs": [],
   "source": [
    "raw_train['Combined'] = raw_train[selected_columns].agg(' | '.join, axis=1)\n",
    "\n",
    "value_counts = raw_train['Combined'].value_counts()\n",
    "\n",
    "value_counts_percentage = (value_counts / len(raw_train)) * 100\n",
    "\n",
    "results_df = value_counts_percentage.reset_index()\n",
    "results_df.columns = ['Combination', 'Observed_Percentage']\n",
    "results_df['Count'] = value_counts.values\n",
    "\n",
    "fig = px.histogram(\n",
    "    results_df,\n",
    "    x='Count',\n",
    "    nbins=50,\n",
    "    title=\"Distribution des occurrences des combinaisons\",\n",
    "    labels={'Count': \"Nombre d'occurrences\"},\n",
    "    text_auto=True\n",
    ")\n",
    "\n",
    "fig.update_layout(\n",
    "    xaxis_title=\"Nombre d'occurrences\",\n",
    "    yaxis_title=\"Fréquence\",\n",
    "    bargap=0.2,\n",
    "    height=800\n",
    ")\n",
    "\n",
    "fig.show()\n",
    "\n",
    "n = 10\n",
    "most_frequent = results_df.nlargest(n, 'Observed_Percentage')\n",
    "least_frequent = results_df.nsmallest(n, 'Observed_Percentage')\n",
    "\n",
    "extreme_values = pd.concat([most_frequent, least_frequent])\n",
    "\n",
    "fig_extremes = px.bar(\n",
    "    extreme_values,\n",
    "    x='Combination',\n",
    "    y='Observed_Percentage',\n",
    "    text='Observed_Percentage',\n",
    "    title=f\"Top {n} et Bottom {n} des combinaisons\",\n",
    "    labels={'Observed_Percentage': \"Pourcentage Observé\", \"Combination\": \"Combinaison\"},\n",
    "    hover_data={'Count': True}\n",
    ")\n",
    "fig_extremes.update_traces(texttemplate='%{text:.4f}', textposition='outside')\n",
    "fig_extremes.update_layout(xaxis_tickangle=45, height=800)\n",
    "fig_extremes.show()"
   ]
  },
  {
   "cell_type": "code",
   "execution_count": 11,
   "metadata": {},
   "outputs": [],
   "source": [
    "train = raw_train.drop([\"id\", \"Combined\"], axis=1)"
   ]
  },
  {
   "cell_type": "markdown",
   "metadata": {},
   "source": [
    "### Treatment"
   ]
  },
  {
   "cell_type": "code",
   "execution_count": 12,
   "metadata": {},
   "outputs": [],
   "source": [
    "import numpy as np\n",
    "\n",
    "def reformat(df):\n",
    "    df[\"Episode_Title\"] = df[\"Episode_Title\"].apply(lambda x: float(x.split(\" \")[1]))\n",
    "    \n",
    "    df[\"Is_Monday\"] = (df[\"Publication_Day\"] == \"Monday\").astype(int)\n",
    "    df[\"Is_Week\"] = ((df[\"Publication_Day\"] == \"Tuesday\") | \n",
    "                 (df[\"Publication_Day\"] == \"Wednesday\") | \n",
    "                 (df[\"Publication_Day\"] == \"Thursday\")).astype(int)\n",
    "    df[\"Is_Friday\"] = (df[\"Publication_Day\"] == \"Friday\").astype(int)\n",
    "    df[\"Is_Saturday\"] = (df[\"Publication_Day\"] == \"Saturday\").astype(int)\n",
    "    df[\"Is_Sunday\"] = (df[\"Publication_Day\"] == \"Sunday\").astype(int)\n",
    "    df.drop(\"Publication_Day\", axis=1, inplace=True)\n",
    "    \n",
    "    df[\"Ads_Feeling\"] = np.exp(df[\"Number_of_Ads\"] / df[\"Episode_Length_minutes\"])\n",
    "    \n",
    "    return df\n",
    "\n",
    "train = reformat(train)"
   ]
  },
  {
   "cell_type": "code",
   "execution_count": 13,
   "metadata": {},
   "outputs": [
    {
     "data": {
      "text/html": [
       "<div>\n",
       "<style scoped>\n",
       "    .dataframe tbody tr th:only-of-type {\n",
       "        vertical-align: middle;\n",
       "    }\n",
       "\n",
       "    .dataframe tbody tr th {\n",
       "        vertical-align: top;\n",
       "    }\n",
       "\n",
       "    .dataframe thead th {\n",
       "        text-align: right;\n",
       "    }\n",
       "</style>\n",
       "<table border=\"1\" class=\"dataframe\">\n",
       "  <thead>\n",
       "    <tr style=\"text-align: right;\">\n",
       "      <th></th>\n",
       "      <th>Episode_Title</th>\n",
       "      <th>Episode_Length_minutes</th>\n",
       "      <th>Genre</th>\n",
       "      <th>Host_Popularity_percentage</th>\n",
       "      <th>Publication_Time</th>\n",
       "      <th>Guest_Popularity_percentage</th>\n",
       "      <th>Number_of_Ads</th>\n",
       "      <th>Episode_Sentiment</th>\n",
       "      <th>Listening_Time_minutes</th>\n",
       "      <th>Is_Monday</th>\n",
       "      <th>Is_Week</th>\n",
       "      <th>Is_Friday</th>\n",
       "      <th>Is_Saturday</th>\n",
       "      <th>Is_Sunday</th>\n",
       "      <th>Ads_Feeling</th>\n",
       "      <th>Catchiness_Score</th>\n",
       "    </tr>\n",
       "  </thead>\n",
       "  <tbody>\n",
       "    <tr>\n",
       "      <th>0</th>\n",
       "      <td>98.0</td>\n",
       "      <td>NaN</td>\n",
       "      <td>True Crime</td>\n",
       "      <td>74.81</td>\n",
       "      <td>Night</td>\n",
       "      <td>NaN</td>\n",
       "      <td>0.0</td>\n",
       "      <td>Positive</td>\n",
       "      <td>31.41998</td>\n",
       "      <td>0</td>\n",
       "      <td>1</td>\n",
       "      <td>0</td>\n",
       "      <td>0</td>\n",
       "      <td>0</td>\n",
       "      <td>NaN</td>\n",
       "      <td>0.293249</td>\n",
       "    </tr>\n",
       "    <tr>\n",
       "      <th>1</th>\n",
       "      <td>26.0</td>\n",
       "      <td>119.80</td>\n",
       "      <td>Comedy</td>\n",
       "      <td>66.95</td>\n",
       "      <td>Afternoon</td>\n",
       "      <td>75.95</td>\n",
       "      <td>2.0</td>\n",
       "      <td>Negative</td>\n",
       "      <td>88.01241</td>\n",
       "      <td>0</td>\n",
       "      <td>0</td>\n",
       "      <td>0</td>\n",
       "      <td>1</td>\n",
       "      <td>0</td>\n",
       "      <td>1.016835</td>\n",
       "      <td>0.370432</td>\n",
       "    </tr>\n",
       "    <tr>\n",
       "      <th>2</th>\n",
       "      <td>16.0</td>\n",
       "      <td>73.90</td>\n",
       "      <td>Education</td>\n",
       "      <td>69.97</td>\n",
       "      <td>Evening</td>\n",
       "      <td>8.97</td>\n",
       "      <td>0.0</td>\n",
       "      <td>Negative</td>\n",
       "      <td>44.92531</td>\n",
       "      <td>0</td>\n",
       "      <td>1</td>\n",
       "      <td>0</td>\n",
       "      <td>0</td>\n",
       "      <td>0</td>\n",
       "      <td>1.000000</td>\n",
       "      <td>0.227377</td>\n",
       "    </tr>\n",
       "    <tr>\n",
       "      <th>3</th>\n",
       "      <td>45.0</td>\n",
       "      <td>67.17</td>\n",
       "      <td>Technology</td>\n",
       "      <td>57.22</td>\n",
       "      <td>Morning</td>\n",
       "      <td>78.70</td>\n",
       "      <td>2.0</td>\n",
       "      <td>Positive</td>\n",
       "      <td>46.27824</td>\n",
       "      <td>1</td>\n",
       "      <td>0</td>\n",
       "      <td>0</td>\n",
       "      <td>0</td>\n",
       "      <td>0</td>\n",
       "      <td>1.030223</td>\n",
       "      <td>0.271430</td>\n",
       "    </tr>\n",
       "    <tr>\n",
       "      <th>4</th>\n",
       "      <td>86.0</td>\n",
       "      <td>110.51</td>\n",
       "      <td>Health</td>\n",
       "      <td>80.07</td>\n",
       "      <td>Afternoon</td>\n",
       "      <td>58.68</td>\n",
       "      <td>3.0</td>\n",
       "      <td>Neutral</td>\n",
       "      <td>75.61031</td>\n",
       "      <td>1</td>\n",
       "      <td>0</td>\n",
       "      <td>0</td>\n",
       "      <td>0</td>\n",
       "      <td>0</td>\n",
       "      <td>1.027519</td>\n",
       "      <td>0.371305</td>\n",
       "    </tr>\n",
       "  </tbody>\n",
       "</table>\n",
       "</div>"
      ],
      "text/plain": [
       "   Episode_Title  Episode_Length_minutes       Genre  \\\n",
       "0           98.0                     NaN  True Crime   \n",
       "1           26.0                  119.80      Comedy   \n",
       "2           16.0                   73.90   Education   \n",
       "3           45.0                   67.17  Technology   \n",
       "4           86.0                  110.51      Health   \n",
       "\n",
       "   Host_Popularity_percentage Publication_Time  Guest_Popularity_percentage  \\\n",
       "0                       74.81            Night                          NaN   \n",
       "1                       66.95        Afternoon                        75.95   \n",
       "2                       69.97          Evening                         8.97   \n",
       "3                       57.22          Morning                        78.70   \n",
       "4                       80.07        Afternoon                        58.68   \n",
       "\n",
       "   Number_of_Ads Episode_Sentiment  Listening_Time_minutes  Is_Monday  \\\n",
       "0            0.0          Positive                31.41998          0   \n",
       "1            2.0          Negative                88.01241          0   \n",
       "2            0.0          Negative                44.92531          0   \n",
       "3            2.0          Positive                46.27824          1   \n",
       "4            3.0           Neutral                75.61031          1   \n",
       "\n",
       "   Is_Week  Is_Friday  Is_Saturday  Is_Sunday  Ads_Feeling  Catchiness_Score  \n",
       "0        1          0            0          0          NaN          0.293249  \n",
       "1        0          0            1          0     1.016835          0.370432  \n",
       "2        1          0            0          0     1.000000          0.227377  \n",
       "3        0          0            0          0     1.030223          0.271430  \n",
       "4        0          0            0          0     1.027519          0.371305  "
      ]
     },
     "execution_count": 13,
     "metadata": {},
     "output_type": "execute_result"
    }
   ],
   "source": [
    "from sentence_transformers import SentenceTransformer\n",
    "from sklearn.metrics.pairwise import cosine_similarity\n",
    "\n",
    "model = SentenceTransformer('all-mpnet-base-v2')\n",
    "\n",
    "def compute_similarity_and_compute_catchiness_score(df):\n",
    "    unique_podcast_names = df['Podcast_Name'].unique()\n",
    "\n",
    "    podcast_embeddings = model.encode(unique_podcast_names, show_progress_bar=False)\n",
    "\n",
    "    catchy_sentence = \" \".join(catchy_words)\n",
    "    catchy_embedding = model.encode([catchy_sentence], show_progress_bar=False)[0]\n",
    "\n",
    "    similarity_scores = cosine_similarity(podcast_embeddings, [catchy_embedding])\n",
    "    similarity_dict = {name: score[0] for name, score in zip(unique_podcast_names, similarity_scores)}\n",
    "\n",
    "    df['Catchiness_Score'] = df['Podcast_Name'].map(similarity_dict)\n",
    "\n",
    "    return df\n",
    "\n",
    "train = compute_similarity_and_compute_catchiness_score(train)\n",
    "train = train.drop(\"Podcast_Name\", axis=1)\n",
    "\n",
    "train.head()"
   ]
  },
  {
   "cell_type": "markdown",
   "metadata": {},
   "source": [
    "### Encoder"
   ]
  },
  {
   "cell_type": "code",
   "execution_count": 14,
   "metadata": {},
   "outputs": [
    {
     "data": {
      "text/html": [
       "<div>\n",
       "<style scoped>\n",
       "    .dataframe tbody tr th:only-of-type {\n",
       "        vertical-align: middle;\n",
       "    }\n",
       "\n",
       "    .dataframe tbody tr th {\n",
       "        vertical-align: top;\n",
       "    }\n",
       "\n",
       "    .dataframe thead th {\n",
       "        text-align: right;\n",
       "    }\n",
       "</style>\n",
       "<table border=\"1\" class=\"dataframe\">\n",
       "  <thead>\n",
       "    <tr style=\"text-align: right;\">\n",
       "      <th></th>\n",
       "      <th>Episode_Title</th>\n",
       "      <th>Episode_Length_minutes</th>\n",
       "      <th>Host_Popularity_percentage</th>\n",
       "      <th>Guest_Popularity_percentage</th>\n",
       "      <th>Number_of_Ads</th>\n",
       "      <th>Listening_Time_minutes</th>\n",
       "      <th>Is_Monday</th>\n",
       "      <th>Is_Week</th>\n",
       "      <th>Is_Friday</th>\n",
       "      <th>Is_Saturday</th>\n",
       "      <th>...</th>\n",
       "      <th>Genre_Sports</th>\n",
       "      <th>Genre_Technology</th>\n",
       "      <th>Genre_True Crime</th>\n",
       "      <th>Publication_Time_Afternoon</th>\n",
       "      <th>Publication_Time_Evening</th>\n",
       "      <th>Publication_Time_Morning</th>\n",
       "      <th>Publication_Time_Night</th>\n",
       "      <th>Episode_Sentiment_Negative</th>\n",
       "      <th>Episode_Sentiment_Neutral</th>\n",
       "      <th>Episode_Sentiment_Positive</th>\n",
       "    </tr>\n",
       "  </thead>\n",
       "  <tbody>\n",
       "    <tr>\n",
       "      <th>0</th>\n",
       "      <td>98.0</td>\n",
       "      <td>NaN</td>\n",
       "      <td>74.81</td>\n",
       "      <td>NaN</td>\n",
       "      <td>0.0</td>\n",
       "      <td>31.41998</td>\n",
       "      <td>0</td>\n",
       "      <td>1</td>\n",
       "      <td>0</td>\n",
       "      <td>0</td>\n",
       "      <td>...</td>\n",
       "      <td>False</td>\n",
       "      <td>False</td>\n",
       "      <td>True</td>\n",
       "      <td>False</td>\n",
       "      <td>False</td>\n",
       "      <td>False</td>\n",
       "      <td>True</td>\n",
       "      <td>False</td>\n",
       "      <td>False</td>\n",
       "      <td>True</td>\n",
       "    </tr>\n",
       "    <tr>\n",
       "      <th>1</th>\n",
       "      <td>26.0</td>\n",
       "      <td>119.80</td>\n",
       "      <td>66.95</td>\n",
       "      <td>75.95</td>\n",
       "      <td>2.0</td>\n",
       "      <td>88.01241</td>\n",
       "      <td>0</td>\n",
       "      <td>0</td>\n",
       "      <td>0</td>\n",
       "      <td>1</td>\n",
       "      <td>...</td>\n",
       "      <td>False</td>\n",
       "      <td>False</td>\n",
       "      <td>False</td>\n",
       "      <td>True</td>\n",
       "      <td>False</td>\n",
       "      <td>False</td>\n",
       "      <td>False</td>\n",
       "      <td>True</td>\n",
       "      <td>False</td>\n",
       "      <td>False</td>\n",
       "    </tr>\n",
       "    <tr>\n",
       "      <th>2</th>\n",
       "      <td>16.0</td>\n",
       "      <td>73.90</td>\n",
       "      <td>69.97</td>\n",
       "      <td>8.97</td>\n",
       "      <td>0.0</td>\n",
       "      <td>44.92531</td>\n",
       "      <td>0</td>\n",
       "      <td>1</td>\n",
       "      <td>0</td>\n",
       "      <td>0</td>\n",
       "      <td>...</td>\n",
       "      <td>False</td>\n",
       "      <td>False</td>\n",
       "      <td>False</td>\n",
       "      <td>False</td>\n",
       "      <td>True</td>\n",
       "      <td>False</td>\n",
       "      <td>False</td>\n",
       "      <td>True</td>\n",
       "      <td>False</td>\n",
       "      <td>False</td>\n",
       "    </tr>\n",
       "    <tr>\n",
       "      <th>3</th>\n",
       "      <td>45.0</td>\n",
       "      <td>67.17</td>\n",
       "      <td>57.22</td>\n",
       "      <td>78.70</td>\n",
       "      <td>2.0</td>\n",
       "      <td>46.27824</td>\n",
       "      <td>1</td>\n",
       "      <td>0</td>\n",
       "      <td>0</td>\n",
       "      <td>0</td>\n",
       "      <td>...</td>\n",
       "      <td>False</td>\n",
       "      <td>True</td>\n",
       "      <td>False</td>\n",
       "      <td>False</td>\n",
       "      <td>False</td>\n",
       "      <td>True</td>\n",
       "      <td>False</td>\n",
       "      <td>False</td>\n",
       "      <td>False</td>\n",
       "      <td>True</td>\n",
       "    </tr>\n",
       "    <tr>\n",
       "      <th>4</th>\n",
       "      <td>86.0</td>\n",
       "      <td>110.51</td>\n",
       "      <td>80.07</td>\n",
       "      <td>58.68</td>\n",
       "      <td>3.0</td>\n",
       "      <td>75.61031</td>\n",
       "      <td>1</td>\n",
       "      <td>0</td>\n",
       "      <td>0</td>\n",
       "      <td>0</td>\n",
       "      <td>...</td>\n",
       "      <td>False</td>\n",
       "      <td>False</td>\n",
       "      <td>False</td>\n",
       "      <td>True</td>\n",
       "      <td>False</td>\n",
       "      <td>False</td>\n",
       "      <td>False</td>\n",
       "      <td>False</td>\n",
       "      <td>True</td>\n",
       "      <td>False</td>\n",
       "    </tr>\n",
       "  </tbody>\n",
       "</table>\n",
       "<p>5 rows × 30 columns</p>\n",
       "</div>"
      ],
      "text/plain": [
       "   Episode_Title  Episode_Length_minutes  Host_Popularity_percentage  \\\n",
       "0           98.0                     NaN                       74.81   \n",
       "1           26.0                  119.80                       66.95   \n",
       "2           16.0                   73.90                       69.97   \n",
       "3           45.0                   67.17                       57.22   \n",
       "4           86.0                  110.51                       80.07   \n",
       "\n",
       "   Guest_Popularity_percentage  Number_of_Ads  Listening_Time_minutes  \\\n",
       "0                          NaN            0.0                31.41998   \n",
       "1                        75.95            2.0                88.01241   \n",
       "2                         8.97            0.0                44.92531   \n",
       "3                        78.70            2.0                46.27824   \n",
       "4                        58.68            3.0                75.61031   \n",
       "\n",
       "   Is_Monday  Is_Week  Is_Friday  Is_Saturday  ...  Genre_Sports  \\\n",
       "0          0        1          0            0  ...         False   \n",
       "1          0        0          0            1  ...         False   \n",
       "2          0        1          0            0  ...         False   \n",
       "3          1        0          0            0  ...         False   \n",
       "4          1        0          0            0  ...         False   \n",
       "\n",
       "   Genre_Technology  Genre_True Crime  Publication_Time_Afternoon  \\\n",
       "0             False              True                       False   \n",
       "1             False             False                        True   \n",
       "2             False             False                       False   \n",
       "3              True             False                       False   \n",
       "4             False             False                        True   \n",
       "\n",
       "   Publication_Time_Evening  Publication_Time_Morning  Publication_Time_Night  \\\n",
       "0                     False                     False                    True   \n",
       "1                     False                     False                   False   \n",
       "2                      True                     False                   False   \n",
       "3                     False                      True                   False   \n",
       "4                     False                     False                   False   \n",
       "\n",
       "   Episode_Sentiment_Negative  Episode_Sentiment_Neutral  \\\n",
       "0                       False                      False   \n",
       "1                        True                      False   \n",
       "2                        True                      False   \n",
       "3                       False                      False   \n",
       "4                       False                       True   \n",
       "\n",
       "   Episode_Sentiment_Positive  \n",
       "0                        True  \n",
       "1                       False  \n",
       "2                       False  \n",
       "3                        True  \n",
       "4                       False  \n",
       "\n",
       "[5 rows x 30 columns]"
      ]
     },
     "execution_count": 14,
     "metadata": {},
     "output_type": "execute_result"
    }
   ],
   "source": [
    "columns_to_encode = ['Genre', 'Publication_Time', 'Episode_Sentiment']\n",
    "\n",
    "encoded_train = pd.get_dummies(train[columns_to_encode], prefix=columns_to_encode)\n",
    "encoded_train = pd.concat([train.drop(columns=columns_to_encode), encoded_train], axis=1)\n",
    "\n",
    "encoded_train.head()"
   ]
  },
  {
   "cell_type": "markdown",
   "metadata": {},
   "source": [
    "### Filling missing values"
   ]
  },
  {
   "cell_type": "code",
   "execution_count": null,
   "metadata": {},
   "outputs": [],
   "source": [
    "import pandas as pd\n",
    "from sklearn.experimental import enable_iterative_imputer\n",
    "from sklearn.impute import IterativeImputer\n",
    "from lightgbm import LGBMRegressor\n",
    "import os\n",
    "\n",
    "os.environ[\"LOKY_MAX_CPU_COUNT\"] = \"4\"\n",
    "\n",
    "def impute_missing_values(train_set, test_set, columns_to_impute=['Episode_Length_minutes', 'Guest_Popularity_percentage'], max_iter=10, random_state=42):        \n",
    "    lgbm_params = {\n",
    "        'n_estimators': 100,\n",
    "        'num_leaves': 128,\n",
    "        'learning_rate': 0.05,\n",
    "        'verbosity': -1,\n",
    "        \"device_type\": 'gpu'\n",
    "    }\n",
    "    \n",
    "    mice_imputer = IterativeImputer(\n",
    "        estimator=LGBMRegressor(**lgbm_params),\n",
    "        max_iter=max_iter,\n",
    "        random_state=random_state,\n",
    "        verbose=0,\n",
    "        imputation_order='ascending'\n",
    "    )\n",
    "    \n",
    "    train_set_imputed = train_set.copy()\n",
    "    test_set_imputed = test_set.copy()\n",
    "    \n",
    "    cat_columns = [col for col in columns_to_impute \n",
    "                  if train_set[col].dtype == 'object' or \n",
    "                  pd.api.types.is_categorical_dtype(train_set[col])]\n",
    "    \n",
    "    num_columns = [col for col in columns_to_impute if col not in cat_columns]\n",
    "    \n",
    "    train_set_imputed[num_columns] = mice_imputer.fit_transform(train_set[num_columns])\n",
    "    test_set_imputed[num_columns] = mice_imputer.transform(test_set[num_columns])\n",
    "    \n",
    "    train_still_has_nan = train_set_imputed[columns_to_impute].isna().any().any()\n",
    "    test_still_has_nan = test_set_imputed[columns_to_impute].isna().any().any()\n",
    "    \n",
    "    if train_still_has_nan or test_still_has_nan:\n",
    "        print(\"Still have missing value after impute\")\n",
    "    \n",
    "    return train_set_imputed, test_set_imputed"
   ]
  },
  {
   "cell_type": "code",
   "execution_count": 16,
   "metadata": {},
   "outputs": [],
   "source": [
    "test = pd.read_csv(\"./data/test.csv\").drop_duplicates()\n",
    "test = reformat(test)\n",
    "test = compute_similarity_and_compute_catchiness_score(test)\n",
    "test.drop(\"Podcast_Name\", axis=1, inplace=True)\n",
    "\n",
    "encoded_test = pd.get_dummies(test[columns_to_encode], prefix=columns_to_encode)\n",
    "encoded_test = encoded_test.reindex(columns=[col for col in encoded_train.columns if col not in test.columns], fill_value=0)\n",
    "encoded_test = pd.concat([test, encoded_test], axis=1).drop(columns_to_encode + [\"Listening_Time_minutes\"], axis=1)"
   ]
  },
  {
   "cell_type": "code",
   "execution_count": null,
   "metadata": {},
   "outputs": [],
   "source": [
    "final_train, final_test = impute_missing_values(encoded_train.drop(\"Listening_Time_minutes\", axis=1), encoded_test)\n",
    "final_train.head()"
   ]
  },
  {
   "cell_type": "code",
   "execution_count": 19,
   "metadata": {},
   "outputs": [],
   "source": [
    "final_train.to_csv(\"./process_data/X_train.csv\", index=False)\n",
    "pd.DataFrame(encoded_train[\"Listening_Time_minutes\"]).to_csv(\"./process_data/y_train.csv\", index=False)\n",
    "\n",
    "final_test.to_csv(\"./process_data/X_test.csv\", index=False)"
   ]
  },
  {
   "cell_type": "markdown",
   "metadata": {},
   "source": [
    "### Dataset creation and normalization"
   ]
  },
  {
   "cell_type": "code",
   "execution_count": 2,
   "metadata": {},
   "outputs": [],
   "source": [
    "import pandas as pd\n",
    "\n",
    "X = pd.read_csv(\"./process_data/X_train.csv\")\n",
    "y = pd.read_csv(\"./process_data/y_train.csv\")\n",
    "test = pd.read_csv(\"./process_data/X_test.csv\")"
   ]
  },
  {
   "cell_type": "code",
   "execution_count": 3,
   "metadata": {},
   "outputs": [],
   "source": [
    "from sklearn.preprocessing import RobustScaler\n",
    "from sklearn.model_selection import train_test_split\n",
    "\n",
    "column_names = X.columns.tolist()\n",
    "\n",
    "x_scaler = RobustScaler()\n",
    "X_scaled = x_scaler.fit_transform(X)\n",
    "\n",
    "y_scaler = RobustScaler()\n",
    "y_scaled = y_scaler.fit_transform(y.values.reshape(-1, 1)).flatten()\n",
    "\n",
    "X_train, X_val, y_train, y_val = train_test_split(X_scaled, y_scaled, test_size=0.25, random_state=42)"
   ]
  },
  {
   "cell_type": "code",
   "execution_count": null,
   "metadata": {},
   "outputs": [
    {
     "name": "stderr",
     "output_type": "stream",
     "text": [
      "[I 2025-04-10 00:41:52,788] A new study created in memory with name: no-name-9452689f-e74e-4a9a-9fc5-7b6a7fb9bdc3\n"
     ]
    },
    {
     "name": "stdout",
     "output_type": "stream",
     "text": [
      "Optimisation de LightGBM...\n"
     ]
    },
    {
     "name": "stderr",
     "output_type": "stream",
     "text": [
      "c:\\Users\\RINGULARITY\\venvs\\model_train\\Lib\\site-packages\\sklearn\\utils\\validation.py:2739: UserWarning:\n",
      "\n",
      "X does not have valid feature names, but LGBMRegressor was fitted with feature names\n",
      "\n",
      "[I 2025-04-10 00:42:45,304] Trial 0 finished with value: 12.809360648118858 and parameters: {'num_leaves': 1087, 'min_child_samples': 124}. Best is trial 0 with value: 12.809360648118858.\n",
      "c:\\Users\\RINGULARITY\\venvs\\model_train\\Lib\\site-packages\\sklearn\\utils\\validation.py:2739: UserWarning:\n",
      "\n",
      "X does not have valid feature names, but LGBMRegressor was fitted with feature names\n",
      "\n",
      "[I 2025-04-10 00:43:34,597] Trial 1 finished with value: 12.79472145545049 and parameters: {'num_leaves': 1637, 'min_child_samples': 90}. Best is trial 1 with value: 12.79472145545049.\n",
      "c:\\Users\\RINGULARITY\\venvs\\model_train\\Lib\\site-packages\\sklearn\\utils\\validation.py:2739: UserWarning:\n",
      "\n",
      "X does not have valid feature names, but LGBMRegressor was fitted with feature names\n",
      "\n",
      "[I 2025-04-10 00:44:21,432] Trial 2 finished with value: 12.785511667551846 and parameters: {'num_leaves': 751, 'min_child_samples': 47}. Best is trial 2 with value: 12.785511667551846.\n",
      "c:\\Users\\RINGULARITY\\venvs\\model_train\\Lib\\site-packages\\sklearn\\utils\\validation.py:2739: UserWarning:\n",
      "\n",
      "X does not have valid feature names, but LGBMRegressor was fitted with feature names\n",
      "\n",
      "[I 2025-04-10 00:45:08,253] Trial 3 finished with value: 12.813848692820464 and parameters: {'num_leaves': 601, 'min_child_samples': 116}. Best is trial 2 with value: 12.785511667551846.\n",
      "c:\\Users\\RINGULARITY\\venvs\\model_train\\Lib\\site-packages\\sklearn\\utils\\validation.py:2739: UserWarning:\n",
      "\n",
      "X does not have valid feature names, but LGBMRegressor was fitted with feature names\n",
      "\n",
      "[I 2025-04-10 00:45:53,077] Trial 4 finished with value: 12.797606030201143 and parameters: {'num_leaves': 1435, 'min_child_samples': 100}. Best is trial 2 with value: 12.785511667551846.\n",
      "c:\\Users\\RINGULARITY\\venvs\\model_train\\Lib\\site-packages\\sklearn\\utils\\validation.py:2739: UserWarning:\n",
      "\n",
      "X does not have valid feature names, but LGBMRegressor was fitted with feature names\n",
      "\n",
      "[I 2025-04-10 00:46:44,605] Trial 5 finished with value: 12.810925630284762 and parameters: {'num_leaves': 543, 'min_child_samples': 126}. Best is trial 2 with value: 12.785511667551846.\n",
      "c:\\Users\\RINGULARITY\\venvs\\model_train\\Lib\\site-packages\\sklearn\\utils\\validation.py:2739: UserWarning:\n",
      "\n",
      "X does not have valid feature names, but LGBMRegressor was fitted with feature names\n",
      "\n",
      "[I 2025-04-10 00:47:32,071] Trial 6 finished with value: 12.790386675743193 and parameters: {'num_leaves': 1791, 'min_child_samples': 52}. Best is trial 2 with value: 12.785511667551846.\n",
      "c:\\Users\\RINGULARITY\\venvs\\model_train\\Lib\\site-packages\\sklearn\\utils\\validation.py:2739: UserWarning:\n",
      "\n",
      "X does not have valid feature names, but LGBMRegressor was fitted with feature names\n",
      "\n",
      "[I 2025-04-10 00:48:17,564] Trial 7 finished with value: 12.791312424876748 and parameters: {'num_leaves': 791, 'min_child_samples': 49}. Best is trial 2 with value: 12.785511667551846.\n",
      "c:\\Users\\RINGULARITY\\venvs\\model_train\\Lib\\site-packages\\sklearn\\utils\\validation.py:2739: UserWarning:\n",
      "\n",
      "X does not have valid feature names, but LGBMRegressor was fitted with feature names\n",
      "\n",
      "[I 2025-04-10 00:49:06,073] Trial 8 finished with value: 12.786377506445842 and parameters: {'num_leaves': 979, 'min_child_samples': 82}. Best is trial 2 with value: 12.785511667551846.\n",
      "c:\\Users\\RINGULARITY\\venvs\\model_train\\Lib\\site-packages\\sklearn\\utils\\validation.py:2739: UserWarning:\n",
      "\n",
      "X does not have valid feature names, but LGBMRegressor was fitted with feature names\n",
      "\n",
      "[I 2025-04-10 00:49:52,542] Trial 9 finished with value: 12.793562145679976 and parameters: {'num_leaves': 1175, 'min_child_samples': 60}. Best is trial 2 with value: 12.785511667551846.\n",
      "c:\\Users\\RINGULARITY\\venvs\\model_train\\Lib\\site-packages\\sklearn\\utils\\validation.py:2739: UserWarning:\n",
      "\n",
      "X does not have valid feature names, but LGBMRegressor was fitted with feature names\n",
      "\n",
      "[I 2025-04-10 00:50:44,176] Trial 10 finished with value: 12.789210712479854 and parameters: {'num_leaves': 1964, 'min_child_samples': 32}. Best is trial 2 with value: 12.785511667551846.\n",
      "c:\\Users\\RINGULARITY\\venvs\\model_train\\Lib\\site-packages\\sklearn\\utils\\validation.py:2739: UserWarning:\n",
      "\n",
      "X does not have valid feature names, but LGBMRegressor was fitted with feature names\n",
      "\n",
      "[I 2025-04-10 00:51:35,155] Trial 11 finished with value: 12.797785193347334 and parameters: {'num_leaves': 915, 'min_child_samples': 73}. Best is trial 2 with value: 12.785511667551846.\n",
      "c:\\Users\\RINGULARITY\\venvs\\model_train\\Lib\\site-packages\\sklearn\\utils\\validation.py:2739: UserWarning:\n",
      "\n",
      "X does not have valid feature names, but LGBMRegressor was fitted with feature names\n",
      "\n",
      "[I 2025-04-10 00:52:22,082] Trial 12 finished with value: 12.791020416493263 and parameters: {'num_leaves': 876, 'min_child_samples': 74}. Best is trial 2 with value: 12.785511667551846.\n",
      "c:\\Users\\RINGULARITY\\venvs\\model_train\\Lib\\site-packages\\sklearn\\utils\\validation.py:2739: UserWarning:\n",
      "\n",
      "X does not have valid feature names, but LGBMRegressor was fitted with feature names\n",
      "\n",
      "[I 2025-04-10 00:53:09,636] Trial 13 finished with value: 12.773795808632714 and parameters: {'num_leaves': 1353, 'min_child_samples': 33}. Best is trial 13 with value: 12.773795808632714.\n",
      "c:\\Users\\RINGULARITY\\venvs\\model_train\\Lib\\site-packages\\sklearn\\utils\\validation.py:2739: UserWarning:\n",
      "\n",
      "X does not have valid feature names, but LGBMRegressor was fitted with feature names\n",
      "\n",
      "[I 2025-04-10 00:54:03,371] Trial 14 finished with value: 12.770757352979809 and parameters: {'num_leaves': 1388, 'min_child_samples': 32}. Best is trial 14 with value: 12.770757352979809.\n",
      "c:\\Users\\RINGULARITY\\venvs\\model_train\\Lib\\site-packages\\sklearn\\utils\\validation.py:2739: UserWarning:\n",
      "\n",
      "X does not have valid feature names, but LGBMRegressor was fitted with feature names\n",
      "\n",
      "[I 2025-04-10 00:54:51,848] Trial 15 finished with value: 12.783813837817975 and parameters: {'num_leaves': 1344, 'min_child_samples': 32}. Best is trial 14 with value: 12.770757352979809.\n",
      "c:\\Users\\RINGULARITY\\venvs\\model_train\\Lib\\site-packages\\sklearn\\utils\\validation.py:2739: UserWarning:\n",
      "\n",
      "X does not have valid feature names, but LGBMRegressor was fitted with feature names\n",
      "\n",
      "[I 2025-04-10 00:55:40,796] Trial 16 finished with value: 12.779008830157338 and parameters: {'num_leaves': 1523, 'min_child_samples': 40}. Best is trial 14 with value: 12.770757352979809.\n",
      "c:\\Users\\RINGULARITY\\venvs\\model_train\\Lib\\site-packages\\sklearn\\utils\\validation.py:2739: UserWarning:\n",
      "\n",
      "X does not have valid feature names, but LGBMRegressor was fitted with feature names\n",
      "\n",
      "[I 2025-04-10 00:56:31,689] Trial 17 finished with value: 12.793741028705618 and parameters: {'num_leaves': 1252, 'min_child_samples': 62}. Best is trial 14 with value: 12.770757352979809.\n",
      "c:\\Users\\RINGULARITY\\venvs\\model_train\\Lib\\site-packages\\sklearn\\utils\\validation.py:2739: UserWarning:\n",
      "\n",
      "X does not have valid feature names, but LGBMRegressor was fitted with feature names\n",
      "\n",
      "[I 2025-04-10 00:57:21,737] Trial 18 finished with value: 12.7932145798096 and parameters: {'num_leaves': 1718, 'min_child_samples': 60}. Best is trial 14 with value: 12.770757352979809.\n",
      "c:\\Users\\RINGULARITY\\venvs\\model_train\\Lib\\site-packages\\sklearn\\utils\\validation.py:2739: UserWarning:\n",
      "\n",
      "X does not have valid feature names, but LGBMRegressor was fitted with feature names\n",
      "\n",
      "[I 2025-04-10 00:58:07,762] Trial 19 finished with value: 12.794642522823063 and parameters: {'num_leaves': 1529, 'min_child_samples': 41}. Best is trial 14 with value: 12.770757352979809.\n",
      "c:\\Users\\RINGULARITY\\venvs\\model_train\\Lib\\site-packages\\sklearn\\utils\\validation.py:2739: UserWarning:\n",
      "\n",
      "X does not have valid feature names, but LGBMRegressor was fitted with feature names\n",
      "\n",
      "[I 2025-04-10 00:59:00,286] Trial 20 finished with value: 12.806764949877381 and parameters: {'num_leaves': 1913, 'min_child_samples': 98}. Best is trial 14 with value: 12.770757352979809.\n",
      "c:\\Users\\RINGULARITY\\venvs\\model_train\\Lib\\site-packages\\sklearn\\utils\\validation.py:2739: UserWarning:\n",
      "\n",
      "X does not have valid feature names, but LGBMRegressor was fitted with feature names\n",
      "\n",
      "[I 2025-04-10 00:59:45,316] Trial 21 finished with value: 12.779479924066935 and parameters: {'num_leaves': 1466, 'min_child_samples': 38}. Best is trial 14 with value: 12.770757352979809.\n",
      "c:\\Users\\RINGULARITY\\venvs\\model_train\\Lib\\site-packages\\sklearn\\utils\\validation.py:2739: UserWarning:\n",
      "\n",
      "X does not have valid feature names, but LGBMRegressor was fitted with feature names\n",
      "\n",
      "[I 2025-04-10 01:00:37,918] Trial 22 finished with value: 12.793351630346798 and parameters: {'num_leaves': 1589, 'min_child_samples': 41}. Best is trial 14 with value: 12.770757352979809.\n",
      "c:\\Users\\RINGULARITY\\venvs\\model_train\\Lib\\site-packages\\sklearn\\utils\\validation.py:2739: UserWarning:\n",
      "\n",
      "X does not have valid feature names, but LGBMRegressor was fitted with feature names\n",
      "\n",
      "[I 2025-04-10 01:01:22,080] Trial 23 finished with value: 12.785360795298978 and parameters: {'num_leaves': 1306, 'min_child_samples': 54}. Best is trial 14 with value: 12.770757352979809.\n",
      "c:\\Users\\RINGULARITY\\venvs\\model_train\\Lib\\site-packages\\sklearn\\utils\\validation.py:2739: UserWarning:\n",
      "\n",
      "X does not have valid feature names, but LGBMRegressor was fitted with feature names\n",
      "\n",
      "[I 2025-04-10 01:02:06,117] Trial 24 finished with value: 12.777100687935516 and parameters: {'num_leaves': 1106, 'min_child_samples': 32}. Best is trial 14 with value: 12.770757352979809.\n"
     ]
    },
    {
     "name": "stdout",
     "output_type": "stream",
     "text": [
      "Meilleur RMSE: 12.770757352979809\n",
      "Meilleurs paramètres: {'num_leaves': 1388, 'min_child_samples': 32}\n"
     ]
    },
    {
     "data": {
      "application/vnd.plotly.v1+json": {
       "config": {
        "plotlyServerURL": "https://plot.ly"
       },
       "data": [
        {
         "cliponaxis": false,
         "hovertemplate": [
          "num_leaves (IntDistribution): 0.09211518680324951<extra></extra>",
          "min_child_samples (IntDistribution): 0.9078848131967504<extra></extra>"
         ],
         "name": "Objective Value",
         "orientation": "h",
         "text": [
          "0.09",
          "0.91"
         ],
         "textposition": "outside",
         "type": "bar",
         "x": [
          0.09211518680324951,
          0.9078848131967504
         ],
         "y": [
          "num_leaves",
          "min_child_samples"
         ]
        }
       ],
       "layout": {
        "template": {
         "data": {
          "bar": [
           {
            "error_x": {
             "color": "#2a3f5f"
            },
            "error_y": {
             "color": "#2a3f5f"
            },
            "marker": {
             "line": {
              "color": "#E5ECF6",
              "width": 0.5
             },
             "pattern": {
              "fillmode": "overlay",
              "size": 10,
              "solidity": 0.2
             }
            },
            "type": "bar"
           }
          ],
          "barpolar": [
           {
            "marker": {
             "line": {
              "color": "#E5ECF6",
              "width": 0.5
             },
             "pattern": {
              "fillmode": "overlay",
              "size": 10,
              "solidity": 0.2
             }
            },
            "type": "barpolar"
           }
          ],
          "carpet": [
           {
            "aaxis": {
             "endlinecolor": "#2a3f5f",
             "gridcolor": "white",
             "linecolor": "white",
             "minorgridcolor": "white",
             "startlinecolor": "#2a3f5f"
            },
            "baxis": {
             "endlinecolor": "#2a3f5f",
             "gridcolor": "white",
             "linecolor": "white",
             "minorgridcolor": "white",
             "startlinecolor": "#2a3f5f"
            },
            "type": "carpet"
           }
          ],
          "choropleth": [
           {
            "colorbar": {
             "outlinewidth": 0,
             "ticks": ""
            },
            "type": "choropleth"
           }
          ],
          "contour": [
           {
            "colorbar": {
             "outlinewidth": 0,
             "ticks": ""
            },
            "colorscale": [
             [
              0,
              "#0d0887"
             ],
             [
              0.1111111111111111,
              "#46039f"
             ],
             [
              0.2222222222222222,
              "#7201a8"
             ],
             [
              0.3333333333333333,
              "#9c179e"
             ],
             [
              0.4444444444444444,
              "#bd3786"
             ],
             [
              0.5555555555555556,
              "#d8576b"
             ],
             [
              0.6666666666666666,
              "#ed7953"
             ],
             [
              0.7777777777777778,
              "#fb9f3a"
             ],
             [
              0.8888888888888888,
              "#fdca26"
             ],
             [
              1,
              "#f0f921"
             ]
            ],
            "type": "contour"
           }
          ],
          "contourcarpet": [
           {
            "colorbar": {
             "outlinewidth": 0,
             "ticks": ""
            },
            "type": "contourcarpet"
           }
          ],
          "heatmap": [
           {
            "colorbar": {
             "outlinewidth": 0,
             "ticks": ""
            },
            "colorscale": [
             [
              0,
              "#0d0887"
             ],
             [
              0.1111111111111111,
              "#46039f"
             ],
             [
              0.2222222222222222,
              "#7201a8"
             ],
             [
              0.3333333333333333,
              "#9c179e"
             ],
             [
              0.4444444444444444,
              "#bd3786"
             ],
             [
              0.5555555555555556,
              "#d8576b"
             ],
             [
              0.6666666666666666,
              "#ed7953"
             ],
             [
              0.7777777777777778,
              "#fb9f3a"
             ],
             [
              0.8888888888888888,
              "#fdca26"
             ],
             [
              1,
              "#f0f921"
             ]
            ],
            "type": "heatmap"
           }
          ],
          "histogram": [
           {
            "marker": {
             "pattern": {
              "fillmode": "overlay",
              "size": 10,
              "solidity": 0.2
             }
            },
            "type": "histogram"
           }
          ],
          "histogram2d": [
           {
            "colorbar": {
             "outlinewidth": 0,
             "ticks": ""
            },
            "colorscale": [
             [
              0,
              "#0d0887"
             ],
             [
              0.1111111111111111,
              "#46039f"
             ],
             [
              0.2222222222222222,
              "#7201a8"
             ],
             [
              0.3333333333333333,
              "#9c179e"
             ],
             [
              0.4444444444444444,
              "#bd3786"
             ],
             [
              0.5555555555555556,
              "#d8576b"
             ],
             [
              0.6666666666666666,
              "#ed7953"
             ],
             [
              0.7777777777777778,
              "#fb9f3a"
             ],
             [
              0.8888888888888888,
              "#fdca26"
             ],
             [
              1,
              "#f0f921"
             ]
            ],
            "type": "histogram2d"
           }
          ],
          "histogram2dcontour": [
           {
            "colorbar": {
             "outlinewidth": 0,
             "ticks": ""
            },
            "colorscale": [
             [
              0,
              "#0d0887"
             ],
             [
              0.1111111111111111,
              "#46039f"
             ],
             [
              0.2222222222222222,
              "#7201a8"
             ],
             [
              0.3333333333333333,
              "#9c179e"
             ],
             [
              0.4444444444444444,
              "#bd3786"
             ],
             [
              0.5555555555555556,
              "#d8576b"
             ],
             [
              0.6666666666666666,
              "#ed7953"
             ],
             [
              0.7777777777777778,
              "#fb9f3a"
             ],
             [
              0.8888888888888888,
              "#fdca26"
             ],
             [
              1,
              "#f0f921"
             ]
            ],
            "type": "histogram2dcontour"
           }
          ],
          "mesh3d": [
           {
            "colorbar": {
             "outlinewidth": 0,
             "ticks": ""
            },
            "type": "mesh3d"
           }
          ],
          "parcoords": [
           {
            "line": {
             "colorbar": {
              "outlinewidth": 0,
              "ticks": ""
             }
            },
            "type": "parcoords"
           }
          ],
          "pie": [
           {
            "automargin": true,
            "type": "pie"
           }
          ],
          "scatter": [
           {
            "fillpattern": {
             "fillmode": "overlay",
             "size": 10,
             "solidity": 0.2
            },
            "type": "scatter"
           }
          ],
          "scatter3d": [
           {
            "line": {
             "colorbar": {
              "outlinewidth": 0,
              "ticks": ""
             }
            },
            "marker": {
             "colorbar": {
              "outlinewidth": 0,
              "ticks": ""
             }
            },
            "type": "scatter3d"
           }
          ],
          "scattercarpet": [
           {
            "marker": {
             "colorbar": {
              "outlinewidth": 0,
              "ticks": ""
             }
            },
            "type": "scattercarpet"
           }
          ],
          "scattergeo": [
           {
            "marker": {
             "colorbar": {
              "outlinewidth": 0,
              "ticks": ""
             }
            },
            "type": "scattergeo"
           }
          ],
          "scattergl": [
           {
            "marker": {
             "colorbar": {
              "outlinewidth": 0,
              "ticks": ""
             }
            },
            "type": "scattergl"
           }
          ],
          "scattermap": [
           {
            "marker": {
             "colorbar": {
              "outlinewidth": 0,
              "ticks": ""
             }
            },
            "type": "scattermap"
           }
          ],
          "scattermapbox": [
           {
            "marker": {
             "colorbar": {
              "outlinewidth": 0,
              "ticks": ""
             }
            },
            "type": "scattermapbox"
           }
          ],
          "scatterpolar": [
           {
            "marker": {
             "colorbar": {
              "outlinewidth": 0,
              "ticks": ""
             }
            },
            "type": "scatterpolar"
           }
          ],
          "scatterpolargl": [
           {
            "marker": {
             "colorbar": {
              "outlinewidth": 0,
              "ticks": ""
             }
            },
            "type": "scatterpolargl"
           }
          ],
          "scatterternary": [
           {
            "marker": {
             "colorbar": {
              "outlinewidth": 0,
              "ticks": ""
             }
            },
            "type": "scatterternary"
           }
          ],
          "surface": [
           {
            "colorbar": {
             "outlinewidth": 0,
             "ticks": ""
            },
            "colorscale": [
             [
              0,
              "#0d0887"
             ],
             [
              0.1111111111111111,
              "#46039f"
             ],
             [
              0.2222222222222222,
              "#7201a8"
             ],
             [
              0.3333333333333333,
              "#9c179e"
             ],
             [
              0.4444444444444444,
              "#bd3786"
             ],
             [
              0.5555555555555556,
              "#d8576b"
             ],
             [
              0.6666666666666666,
              "#ed7953"
             ],
             [
              0.7777777777777778,
              "#fb9f3a"
             ],
             [
              0.8888888888888888,
              "#fdca26"
             ],
             [
              1,
              "#f0f921"
             ]
            ],
            "type": "surface"
           }
          ],
          "table": [
           {
            "cells": {
             "fill": {
              "color": "#EBF0F8"
             },
             "line": {
              "color": "white"
             }
            },
            "header": {
             "fill": {
              "color": "#C8D4E3"
             },
             "line": {
              "color": "white"
             }
            },
            "type": "table"
           }
          ]
         },
         "layout": {
          "annotationdefaults": {
           "arrowcolor": "#2a3f5f",
           "arrowhead": 0,
           "arrowwidth": 1
          },
          "autotypenumbers": "strict",
          "coloraxis": {
           "colorbar": {
            "outlinewidth": 0,
            "ticks": ""
           }
          },
          "colorscale": {
           "diverging": [
            [
             0,
             "#8e0152"
            ],
            [
             0.1,
             "#c51b7d"
            ],
            [
             0.2,
             "#de77ae"
            ],
            [
             0.3,
             "#f1b6da"
            ],
            [
             0.4,
             "#fde0ef"
            ],
            [
             0.5,
             "#f7f7f7"
            ],
            [
             0.6,
             "#e6f5d0"
            ],
            [
             0.7,
             "#b8e186"
            ],
            [
             0.8,
             "#7fbc41"
            ],
            [
             0.9,
             "#4d9221"
            ],
            [
             1,
             "#276419"
            ]
           ],
           "sequential": [
            [
             0,
             "#0d0887"
            ],
            [
             0.1111111111111111,
             "#46039f"
            ],
            [
             0.2222222222222222,
             "#7201a8"
            ],
            [
             0.3333333333333333,
             "#9c179e"
            ],
            [
             0.4444444444444444,
             "#bd3786"
            ],
            [
             0.5555555555555556,
             "#d8576b"
            ],
            [
             0.6666666666666666,
             "#ed7953"
            ],
            [
             0.7777777777777778,
             "#fb9f3a"
            ],
            [
             0.8888888888888888,
             "#fdca26"
            ],
            [
             1,
             "#f0f921"
            ]
           ],
           "sequentialminus": [
            [
             0,
             "#0d0887"
            ],
            [
             0.1111111111111111,
             "#46039f"
            ],
            [
             0.2222222222222222,
             "#7201a8"
            ],
            [
             0.3333333333333333,
             "#9c179e"
            ],
            [
             0.4444444444444444,
             "#bd3786"
            ],
            [
             0.5555555555555556,
             "#d8576b"
            ],
            [
             0.6666666666666666,
             "#ed7953"
            ],
            [
             0.7777777777777778,
             "#fb9f3a"
            ],
            [
             0.8888888888888888,
             "#fdca26"
            ],
            [
             1,
             "#f0f921"
            ]
           ]
          },
          "colorway": [
           "#636efa",
           "#EF553B",
           "#00cc96",
           "#ab63fa",
           "#FFA15A",
           "#19d3f3",
           "#FF6692",
           "#B6E880",
           "#FF97FF",
           "#FECB52"
          ],
          "font": {
           "color": "#2a3f5f"
          },
          "geo": {
           "bgcolor": "white",
           "lakecolor": "white",
           "landcolor": "#E5ECF6",
           "showlakes": true,
           "showland": true,
           "subunitcolor": "white"
          },
          "hoverlabel": {
           "align": "left"
          },
          "hovermode": "closest",
          "mapbox": {
           "style": "light"
          },
          "paper_bgcolor": "white",
          "plot_bgcolor": "#E5ECF6",
          "polar": {
           "angularaxis": {
            "gridcolor": "white",
            "linecolor": "white",
            "ticks": ""
           },
           "bgcolor": "#E5ECF6",
           "radialaxis": {
            "gridcolor": "white",
            "linecolor": "white",
            "ticks": ""
           }
          },
          "scene": {
           "xaxis": {
            "backgroundcolor": "#E5ECF6",
            "gridcolor": "white",
            "gridwidth": 2,
            "linecolor": "white",
            "showbackground": true,
            "ticks": "",
            "zerolinecolor": "white"
           },
           "yaxis": {
            "backgroundcolor": "#E5ECF6",
            "gridcolor": "white",
            "gridwidth": 2,
            "linecolor": "white",
            "showbackground": true,
            "ticks": "",
            "zerolinecolor": "white"
           },
           "zaxis": {
            "backgroundcolor": "#E5ECF6",
            "gridcolor": "white",
            "gridwidth": 2,
            "linecolor": "white",
            "showbackground": true,
            "ticks": "",
            "zerolinecolor": "white"
           }
          },
          "shapedefaults": {
           "line": {
            "color": "#2a3f5f"
           }
          },
          "ternary": {
           "aaxis": {
            "gridcolor": "white",
            "linecolor": "white",
            "ticks": ""
           },
           "baxis": {
            "gridcolor": "white",
            "linecolor": "white",
            "ticks": ""
           },
           "bgcolor": "#E5ECF6",
           "caxis": {
            "gridcolor": "white",
            "linecolor": "white",
            "ticks": ""
           }
          },
          "title": {
           "x": 0.05
          },
          "xaxis": {
           "automargin": true,
           "gridcolor": "white",
           "linecolor": "white",
           "ticks": "",
           "title": {
            "standoff": 15
           },
           "zerolinecolor": "white",
           "zerolinewidth": 2
          },
          "yaxis": {
           "automargin": true,
           "gridcolor": "white",
           "linecolor": "white",
           "ticks": "",
           "title": {
            "standoff": 15
           },
           "zerolinecolor": "white",
           "zerolinewidth": 2
          }
         }
        },
        "title": {
         "text": "Hyperparameter Importances"
        },
        "xaxis": {
         "title": {
          "text": "Hyperparameter Importance"
         }
        },
        "yaxis": {
         "title": {
          "text": "Hyperparameter"
         }
        }
       }
      }
     },
     "metadata": {},
     "output_type": "display_data"
    },
    {
     "name": "stderr",
     "output_type": "stream",
     "text": [
      "c:\\Users\\RINGULARITY\\venvs\\model_train\\Lib\\site-packages\\sklearn\\utils\\validation.py:2739: UserWarning:\n",
      "\n",
      "X does not have valid feature names, but LGBMRegressor was fitted with feature names\n",
      "\n"
     ]
    },
    {
     "name": "stdout",
     "output_type": "stream",
     "text": [
      "RMSE du modèle final: 12.8577283180608\n"
     ]
    },
    {
     "data": {
      "text/plain": [
       "['best_lgbm_model.pkl']"
      ]
     },
     "execution_count": 5,
     "metadata": {},
     "output_type": "execute_result"
    }
   ],
   "source": [
    "import optuna\n",
    "import lightgbm as lgbm\n",
    "import numpy as np\n",
    "from sklearn.metrics import mean_squared_error\n",
    "import joblib\n",
    "from optuna.visualization import plot_param_importances\n",
    "import os\n",
    "\n",
    "os.environ[\"LOKY_MAX_CPU_COUNT\"] = \"4\"\n",
    "\n",
    "def invert_transform(y):\n",
    "    return y_scaler.inverse_transform(y.reshape((-1, 1))).flatten()\n",
    "\n",
    "def objective(trial):\n",
    "    params = {\n",
    "        'objective': 'regression',\n",
    "        'metric': 'rmse',\n",
    "        'verbosity': -1,\n",
    "        'boosting_type': 'gbdt',\n",
    "        'learning_rate': 0.05,\n",
    "        'n_estimators': 1500,\n",
    "        'num_leaves': trial.suggest_int('num_leaves', 512, 2048),\n",
    "        'max_depth': -1,\n",
    "        'min_child_samples': trial.suggest_int('min_child_samples', 8, 48),\n",
    "        'reg_alpha': 0.0001,\n",
    "        'reg_lambda': 0.005,\n",
    "        'objective': 'l2'\n",
    "    }\n",
    "    \n",
    "    model = lgbm.LGBMRegressor(**params)\n",
    "    \n",
    "    model.fit(\n",
    "        X_train, y_train,\n",
    "        eval_set=[(X_val, y_val)],\n",
    "        callbacks=[lgbm.early_stopping(stopping_rounds=50, verbose=False)]\n",
    "    )\n",
    "    \n",
    "    preds = model.predict(X_val)\n",
    "    rmse = np.sqrt(mean_squared_error(invert_transform(y_val), invert_transform(preds)))\n",
    "    \n",
    "    return rmse\n",
    "\n",
    "def optimize_lgbm(X_train, y_train, X_val, y_val, n_trials=100):\n",
    "    print(\"Optimisation de LightGBM...\")\n",
    "    \n",
    "    study = optuna.create_study(\n",
    "        direction='minimize',\n",
    "        sampler=optuna.samplers.TPESampler(seed=42)\n",
    "    )\n",
    "    \n",
    "    study.optimize(objective, n_trials=n_trials)\n",
    "    \n",
    "    print(f\"Meilleur RMSE: {study.best_value}\")\n",
    "    print(f\"Meilleurs paramètres: {study.best_params}\")\n",
    "    \n",
    "    fig = plot_param_importances(study)\n",
    "    fig.show()\n",
    "    \n",
    "    best_params = study.best_params.copy()\n",
    "    \n",
    "    if 'device_type' in best_params and best_params['device_type'] == 'gpu':\n",
    "        best_params['device_type'] = 'gpu'\n",
    "    else:\n",
    "        best_params.pop('device_type', None)\n",
    "    \n",
    "    final_model = lgbm.LGBMRegressor(**best_params)\n",
    "    \n",
    "    final_model.fit(\n",
    "        X_train, y_train,\n",
    "        eval_set=[(X_val, y_val)],\n",
    "        callbacks=[lgbm.early_stopping(stopping_rounds=50, verbose=False)]\n",
    "    )\n",
    "    \n",
    "    preds = final_model.predict(X_val)\n",
    "    final_rmse = np.sqrt(mean_squared_error(invert_transform(y_val), invert_transform(preds)))\n",
    "    print(f\"RMSE du modèle final: {final_rmse}\")\n",
    "    \n",
    "    return final_model, best_params, study\n",
    "\n",
    "best_model, best_params, study = optimize_lgbm(X_train, y_train, X_val, y_val, n_trials=25)\n",
    "\n",
    "joblib.dump(best_model, 'best_lgbm_model.pkl')"
   ]
  },
  {
   "cell_type": "markdown",
   "metadata": {},
   "source": [
    "### Essemble version XBG + LGBM + CB"
   ]
  },
  {
   "cell_type": "markdown",
   "metadata": {},
   "source": [
    "import optuna\n",
    "import xgboost as xgb\n",
    "import lightgbm as lgbm\n",
    "import catboost as ctb\n",
    "import numpy as np\n",
    "from sklearn.ensemble import StackingRegressor\n",
    "from sklearn.linear_model import ElasticNet\n",
    "from sklearn.metrics import mean_squared_error\n",
    "from sklearn.model_selection import KFold\n",
    "import joblib\n",
    "from optuna.visualization import plot_param_importances\n",
    "import os\n",
    "\n",
    "os.environ[\"LOKY_MAX_CPU_COUNT\"] = \"4\"\n",
    "\n",
    "itterations = 500\n",
    "lr = [5e-4, 5e-1]\n",
    "\n",
    "def invert_transform(y):\n",
    "    return y_scaler.inverse_transform(y.reshape((-1, 1))).flatten()\n",
    "\n",
    "def optimize_model(trial, model_type, X_train, y_train, X_val, y_val):\n",
    "    if model_type == \"xgb\":\n",
    "        params = {\n",
    "            \"device\": \"cuda\",\n",
    "            \"tree_method\": \"hist\",\n",
    "            \"sampling_method\": \"gradient_based\",\n",
    "            'objective': 'reg:squarederror',\n",
    "            'eval_metric': 'rmse',\n",
    "            'verbosity': 0,\n",
    "            'learning_rate': trial.suggest_float('learning_rate', *lr, log=True),\n",
    "            'max_depth': trial.suggest_int('max_depth', 6, 10),\n",
    "            'min_child_weight': trial.suggest_int('min_child_weight', 5, 20),\n",
    "            'subsample': 0.85,\n",
    "            'colsample_bytree': trial.suggest_float('colsample_bytree', 0.35, 1.0),\n",
    "            'gamma': 1e-5,\n",
    "            'alpha': 1e-5,\n",
    "            'lambda': 1e-5,\n",
    "            'n_estimators': itterations,\n",
    "        }\n",
    "        model = xgb.XGBRegressor(**params)\n",
    "    \n",
    "    elif model_type == \"lgbm\":\n",
    "        params = {\n",
    "            'objective': 'regression',\n",
    "            'metric': 'rmse',\n",
    "            'verbosity': -1,\n",
    "            'boosting_type': 'gbdt',\n",
    "            'learning_rate': trial.suggest_float('learning_rate', *lr, log=True),\n",
    "            'n_estimators': itterations,\n",
    "            'num_leaves': trial.suggest_int('num_leaves', 250, 500),\n",
    "            'max_depth': -1,\n",
    "            'min_child_samples': trial.suggest_int('min_child_samples', 50, 250),\n",
    "            'reg_alpha': 0.0001,\n",
    "            'reg_lambda': 0.005,\n",
    "            'objective': 'l2'\n",
    "        }\n",
    "        model = lgbm.LGBMRegressor(**params)\n",
    "    \n",
    "    elif model_type == \"catboost\":\n",
    "        params = {\n",
    "            'loss_function': 'RMSE',\n",
    "            'verbose': 0,\n",
    "            'iterations': itterations,\n",
    "            'learning_rate': trial.suggest_float('learning_rate', *lr, log=True),\n",
    "            'depth': trial.suggest_int('depth', 7, 10),\n",
    "            'border_count': trial.suggest_int('border_count', 32, 128),\n",
    "        }\n",
    "        model = ctb.CatBoostRegressor(**params)\n",
    "\n",
    "    try:\n",
    "        model.fit(X_train, y_train, eval_set=[(X_val, y_val)], verbose=False)\n",
    "    except:\n",
    "        model.fit(X_train, y_train, eval_set=[(X_val, y_val)])\n",
    "    \n",
    "    preds = model.predict(X_val)\n",
    "    rmse = np.sqrt(mean_squared_error(invert_transform(y_val), invert_transform(preds)))\n",
    "    \n",
    "    return rmse, model, params\n",
    "\n",
    "def optimize_all_models(X_train, y_train, X_val, y_val, n_trials=30):\n",
    "    model_types = [\"xgb\", \"lgbm\", \"catboost\"]\n",
    "    best_models = {}\n",
    "    \n",
    "    for model_type in model_types:\n",
    "        print(f\"Optimizing {model_type}...\")\n",
    "        study = optuna.create_study(direction='minimize', \n",
    "                                   sampler=optuna.samplers.TPESampler(seed=42))\n",
    "        \n",
    "        objective_func = lambda trial: optimize_model(trial, model_type, X_train, y_train, X_val, y_val)[0]\n",
    "        study.optimize(objective_func, n_trials=n_trials)\n",
    "        \n",
    "        fig = plot_param_importances(study)\n",
    "        fig.show()\n",
    "        \n",
    "        _, best_model, best_params = optimize_model(study.best_trial, model_type, X_train, y_train, X_val, y_val)\n",
    "        best_models[model_type] = (best_model, best_params, study.best_value)\n",
    "        \n",
    "        print(f\"Best {model_type} RMSE: {study.best_value}\")\n",
    "        print(f\"Best parameters: {best_params}\")\n",
    "\n",
    "    return best_models\n",
    "\n",
    "def create_advanced_ensemble(best_models, X_train, y_train, cv=4):\n",
    "    base_models = []\n",
    "    \n",
    "    sorted_models = sorted(best_models.items(), key=lambda x: x[1][2])\n",
    "    \n",
    "    for model_type, (model, _, _) in sorted_models:\n",
    "        base_models.append((model_type, model))\n",
    "    \n",
    "    meta_learner = ElasticNet(alpha=0.001, l1_ratio=0.5, max_iter=10000)\n",
    "    \n",
    "    stacking = StackingRegressor(\n",
    "        estimators=base_models,\n",
    "        final_estimator=meta_learner,\n",
    "        cv=KFold(n_splits=cv, shuffle=True, random_state=42)\n",
    "    )\n",
    "    \n",
    "    stacking.fit(X_train, y_train)\n",
    "    \n",
    "    return stacking\n",
    "\n",
    "def build_advanced_ensemble(X_train, y_train, X_val, y_val, n_trials=30, cv=4):\n",
    "    best_models = optimize_all_models(X_train, y_train, X_val, y_val, n_trials)\n",
    "    ensemble = create_advanced_ensemble(best_models, X_train, y_train, cv)\n",
    "    preds = ensemble.predict(X_val)\n",
    "    rmse = np.sqrt(mean_squared_error(invert_transform(y_val), invert_transform(preds)))\n",
    "    print(f\"Ensemble RMSE: {rmse}\")\n",
    "    \n",
    "    return ensemble, best_models\n",
    "\n",
    "ensemble, best_models = build_advanced_ensemble(X_train, y_train, X_val, y_val, n_trials=50, cv=5)\n",
    "joblib.dump(ensemble, 'advanced_ensemble.pkl')"
   ]
  },
  {
   "cell_type": "markdown",
   "metadata": {},
   "source": [
    "import matplotlib.pyplot as plt\n",
    "import pandas as pd\n",
    "from sklearn.inspection import permutation_importance\n",
    "\n",
    "def plot_ensemble_feature_importances(ensemble):\n",
    "    feature_names = X.columns.tolist()\n",
    "    \n",
    "    feature_importances = {feature: 0 for feature in feature_names}\n",
    "    model_count = 0\n",
    "    \n",
    "    for name, model in ensemble.named_estimators_.items():\n",
    "        if hasattr(model, 'feature_importances_'):\n",
    "            importances = model.feature_importances_\n",
    "            for i, importance in enumerate(importances):\n",
    "                feature_importances[feature_names[i]] += importance\n",
    "            model_count += 1\n",
    "    \n",
    "    if model_count == 0:\n",
    "        result = permutation_importance(ensemble, X_train, y_train, n_repeats=10, random_state=42)\n",
    "        for i, feature in enumerate(feature_names):\n",
    "            feature_importances[feature] = result.importances_mean[i]\n",
    "    else:\n",
    "        for feature in feature_importances:\n",
    "            feature_importances[feature] /= model_count\n",
    "    \n",
    "    importances_df = pd.DataFrame({\n",
    "        'Feature': feature_names,\n",
    "        'Importance': [feature_importances[feature] for feature in feature_names]\n",
    "    })\n",
    "    \n",
    "    importances_df = importances_df.sort_values('Importance', ascending=False)\n",
    "    \n",
    "    plt.figure(figsize=(12, 8))\n",
    "    plt.barh(importances_df['Feature'], importances_df['Importance'])\n",
    "    plt.xlabel('Importance relative')\n",
    "    plt.ylabel('Features')\n",
    "    plt.title('Importance des features dans l\\'ensemble (ordre décroissant)')\n",
    "    plt.tight_layout()\n",
    "    plt.show()\n",
    "    \n",
    "    return importances_df\n",
    "\n",
    "feature_importances_df = plot_ensemble_feature_importances(ensemble)"
   ]
  },
  {
   "cell_type": "code",
   "execution_count": 6,
   "metadata": {},
   "outputs": [
    {
     "name": "stdout",
     "output_type": "stream",
     "text": [
      "Top 10 features importantes:\n",
      "                        Feature  Importance\n",
      "2    Host_Popularity_percentage       25225\n",
      "3   Guest_Popularity_percentage       21591\n",
      "0                 Episode_Title       20298\n",
      "1        Episode_Length_minutes       18434\n",
      "11             Catchiness_Score       14604\n",
      "10                  Ads_Feeling       12156\n",
      "4                 Number_of_Ads        3023\n",
      "6                       Is_Week        2701\n",
      "26   Episode_Sentiment_Negative        2037\n",
      "28   Episode_Sentiment_Positive        1751\n"
     ]
    },
    {
     "data": {
      "image/png": "[encoded data removed]",
      "text/plain": [
       "<Figure size 1200x800 with 1 Axes>"
      ]
     },
     "metadata": {},
     "output_type": "display_data"
    }
   ],
   "source": [
    "import matplotlib.pyplot as plt\n",
    "import pandas as pd\n",
    "\n",
    "feature_importances = best_model.feature_importances_\n",
    "\n",
    "feature_names = X.columns.tolist()\n",
    "\n",
    "importances_df = pd.DataFrame({\n",
    "    'Feature': feature_names,\n",
    "    'Importance': feature_importances\n",
    "}).sort_values(by='Importance', ascending=False)\n",
    "\n",
    "print(\"Top 10 features importantes:\")\n",
    "print(importances_df.head(10))\n",
    "\n",
    "plt.figure(figsize=(12, 8))\n",
    "plt.barh(importances_df['Feature'][:20], importances_df['Importance'][:20])\n",
    "plt.xlabel('Importance')\n",
    "plt.ylabel('Features')\n",
    "plt.title('Importance des features (Top 20)')\n",
    "plt.gca().invert_yaxis()\n",
    "plt.tight_layout()\n",
    "plt.show()"
   ]
  },
  {
   "cell_type": "code",
   "execution_count": 7,
   "metadata": {},
   "outputs": [
    {
     "name": "stderr",
     "output_type": "stream",
     "text": [
      "c:\\Users\\RINGULARITY\\venvs\\model_train\\Lib\\site-packages\\sklearn\\utils\\validation.py:2739: UserWarning:\n",
      "\n",
      "X does not have valid feature names, but LGBMRegressor was fitted with feature names\n",
      "\n"
     ]
    }
   ],
   "source": [
    "ids = test['id'].copy()\n",
    "X_test = test.drop('id', axis=1)\n",
    "X_test_scaled = x_scaler.transform(X_test)\n",
    "\n",
    "y_pred_scaled = best_model.predict(X_test_scaled)\n",
    "y_pred = y_scaler.inverse_transform(y_pred_scaled.reshape(-1, 1)).flatten()\n",
    "\n",
    "results = pd.DataFrame({\n",
    "    'id': ids,\n",
    "    'Listening_Time_minutes': y_pred\n",
    "})"
   ]
  },
  {
   "cell_type": "code",
   "execution_count": 8,
   "metadata": {},
   "outputs": [],
   "source": [
    "results.to_csv(\"./results/4.csv\", index=False)"
   ]
  },
  {
   "cell_type": "markdown",
   "metadata": {},
   "source": [
    "Check RMSE on train set to see the difference"
   ]
  },
  {
   "cell_type": "code",
   "execution_count": 9,
   "metadata": {},
   "outputs": [
    {
     "name": "stderr",
     "output_type": "stream",
     "text": [
      "c:\\Users\\RINGULARITY\\venvs\\model_train\\Lib\\site-packages\\sklearn\\utils\\validation.py:2739: UserWarning:\n",
      "\n",
      "X does not have valid feature names, but LGBMRegressor was fitted with feature names\n",
      "\n"
     ]
    },
    {
     "data": {
      "text/plain": [
       "10.34433935327359"
      ]
     },
     "execution_count": 9,
     "metadata": {},
     "output_type": "execute_result"
    }
   ],
   "source": [
    "yp = best_model.predict(X_train)\n",
    "yp = y_scaler.inverse_transform(yp.reshape(-1, 1)).flatten()\n",
    "\n",
    "np.sqrt(mean_squared_error(invert_transform(y_train), yp))"
   ]
  }
 ],
 "metadata": {
  "kernelspec": {
   "display_name": "model_train",
   "language": "python",
   "name": "python3"
  },
  "language_info": {
   "codemirror_mode": {
    "name": "ipython",
    "version": 3
   },
   "file_extension": ".py",
   "mimetype": "text/x-python",
   "name": "python",
   "nbconvert_exporter": "python",
   "pygments_lexer": "ipython3",
   "version": "3.12.5"
  }
 },
 "nbformat": 4,
 "nbformat_minor": 2
}
